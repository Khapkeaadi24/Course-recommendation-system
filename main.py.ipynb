{
 "cells": [
  {
   "cell_type": "code",
   "execution_count": 1,
   "id": "7411f460-9ad0-4160-9412-a7be51b01bf2",
   "metadata": {},
   "outputs": [
    {
     "name": "stderr",
     "output_type": "stream",
     "text": [
      "2024-07-22 14:33:47.764 \n",
      "  \u001b[33m\u001b[1mWarning:\u001b[0m to view this Streamlit app on a browser, run it with the following\n",
      "  command:\n",
      "\n",
      "    streamlit run C:\\Users\\Aditya\\AppData\\Local\\Programs\\Python\\Python312\\Lib\\site-packages\\ipykernel_launcher.py [ARGUMENTS]\n",
      "2024-07-22 14:33:47.770 Session state does not function when running a script without `streamlit run`\n"
     ]
    }
   ],
   "source": [
    "# Coursera Course Recommendation System \n",
    "\n",
    "import os\n",
    "import pickle\n",
    "import streamlit as st\n",
    "import matplotlib.pyplot as plt\n",
    "import numpy as np\n",
    "import pandas as pd\n",
    "import requests\n",
    "\n",
    "# <==== Code starts here ====>\n",
    "\n",
    "courses_list = pickle.load(open('courses.pkl','rb'))\n",
    "similarity = pickle.load(open('similarity.pkl','rb'))\n",
    "\n",
    "def recommend(course):\n",
    "    index = courses_list[courses_list['course_name'] == course].index[0]\n",
    "    distances = sorted(list(enumerate(similarity[index])), reverse=True, key=lambda x: x[1])\n",
    "    recommended_course_names = []\n",
    "    for i in distances[1:7]:\n",
    "        course_name = courses_list.iloc[i[0]].course_name\n",
    "        recommended_course_names.append(course_name)\n",
    "\n",
    "    return recommended_course_names\n",
    "\n",
    "st.markdown(\"<h2 style='text-align: center; color: blue;'>Coursera Course Recommendation System</h2>\", unsafe_allow_html=True)\n",
    "st.markdown(\"<h4 style='text-align: center; color: black;'>Find similar courses from a dataset of over 3,000 courses from Coursera!</h4>\", unsafe_allow_html=True)\n",
    "st.markdown(\"<h4 style='text-align: center; color: black;'>Web App created by Sagar Bapodara</h4>\", unsafe_allow_html=True)\n",
    "\n",
    "course_list = courses_list['course_name'].values\n",
    "selected_course = st.selectbox(\n",
    "    \"Type or select a course you like :\",\n",
    "    courses_list\n",
    ")\n",
    "\n",
    "if st.button('Show Recommended Courses'):\n",
    "    st.write(\"Recommended Courses based on your interests are :\")\n",
    "    recommended_course_names = recommend(selected_course)\n",
    "    st.text(recommended_course_names[0])\n",
    "    st.text(recommended_course_names[1])\n",
    "    st.text(recommended_course_names[2])\n",
    "    st.text(recommended_course_names[3])\n",
    "    st.text(recommended_course_names[4])\n",
    "    st.text(recommended_course_names[5])\n",
    "    st.text(\" \")\n",
    "    st.markdown(\"<h6 style='text-align: center; color: red;'>Copyright reserved by Coursera and Respective Course Owners</h6>\", unsafe_allow_html=True)\n"
   ]
  },
  {
   "cell_type": "code",
   "execution_count": null,
   "id": "5d692d12-5adc-4930-b137-cdd85d06590b",
   "metadata": {},
   "outputs": [],
   "source": []
  }
 ],
 "metadata": {
  "kernelspec": {
   "display_name": "Python 3 (ipykernel)",
   "language": "python",
   "name": "python3"
  },
  "language_info": {
   "codemirror_mode": {
    "name": "ipython",
    "version": 3
   },
   "file_extension": ".py",
   "mimetype": "text/x-python",
   "name": "python",
   "nbconvert_exporter": "python",
   "pygments_lexer": "ipython3",
   "version": "3.12.0"
  }
 },
 "nbformat": 4,
 "nbformat_minor": 5
}
